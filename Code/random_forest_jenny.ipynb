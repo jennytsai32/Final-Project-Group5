{
 "cells": [
  {
   "cell_type": "code",
   "execution_count": 1,
   "metadata": {},
   "outputs": [],
   "source": [
    "# Importing the required packages\n",
    "import numpy as np\n",
    "import pandas as pd\n",
    "import matplotlib.pyplot as plt\n",
    "import seaborn as sns\n",
    "from sklearn.model_selection import train_test_split\n",
    "from sklearn.preprocessing import LabelEncoder\n",
    "from sklearn.ensemble import RandomForestClassifier\n",
    "from sklearn.metrics import confusion_matrix\n",
    "from sklearn.metrics import accuracy_score\n",
    "from sklearn.metrics import classification_report\n",
    "from sklearn.metrics import roc_auc_score"
   ]
  },
  {
   "cell_type": "code",
   "execution_count": 2,
   "metadata": {},
   "outputs": [
    {
     "data": {
      "text/plain": [
       "Index(['Unnamed: 0', 'ID', 'Source', 'TMC', 'Severity', 'Start_Time',\n",
       "       'End_Time', 'Start_Lat', 'Start_Lng', 'End_Lat', 'End_Lng',\n",
       "       'Distance(mi)', 'Description', 'Number', 'Street', 'Side', 'City',\n",
       "       'County', 'State', 'Zipcode', 'Country', 'Timezone', 'Airport_Code',\n",
       "       'Weather_Timestamp', 'Temperature(F)', 'Wind_Chill(F)', 'Humidity(%)',\n",
       "       'Pressure(in)', 'Visibility(mi)', 'Wind_Direction', 'Wind_Speed(mph)',\n",
       "       'Precipitation(in)', 'Weather_Condition', 'Amenity', 'Bump', 'Crossing',\n",
       "       'Give_Way', 'Junction', 'No_Exit', 'Railway', 'Roundabout', 'Station',\n",
       "       'Stop', 'Traffic_Calming', 'Traffic_Signal', 'Turning_Loop',\n",
       "       'Sunrise_Sunset', 'Civil_Twilight', 'Nautical_Twilight',\n",
       "       'Astronomical_Twilight', 'Year', 'Date', 'Month', 'Day', 'Hour',\n",
       "       'Weekday', 'Time_Duration(min)'],\n",
       "      dtype='object')"
      ]
     },
     "execution_count": 2,
     "metadata": {},
     "output_type": "execute_result"
    }
   ],
   "source": [
    "# import Dataset\n",
    "# read data as panda dataframe\n",
    "data = pd.read_csv('US_data_2019_draft_2.csv')\n",
    "\n",
    "data.columns"
   ]
  },
  {
   "cell_type": "code",
   "execution_count": 3,
   "metadata": {},
   "outputs": [
    {
     "data": {
      "text/plain": [
       "Index(['Severity', 'Temperature(F)', 'Wind_Chill(F)', 'Humidity(%)',\n",
       "       'Pressure(in)', 'Visibility(mi)', 'Wind_Direction', 'Wind_Speed(mph)',\n",
       "       'Precipitation(in)', 'Weather_Condition', 'Amenity', 'Bump', 'Crossing',\n",
       "       'Give_Way', 'Junction', 'No_Exit', 'Railway', 'Roundabout', 'Station',\n",
       "       'Stop', 'Traffic_Calming', 'Traffic_Signal', 'Sunrise_Sunset', 'Year',\n",
       "       'Date', 'Month', 'Day', 'Hour', 'Weekday', 'Time_Duration(min)'],\n",
       "      dtype='object')"
      ]
     },
     "execution_count": 3,
     "metadata": {},
     "output_type": "execute_result"
    }
   ],
   "source": [
    "# drop unnnecessary columns\n",
    "# data.drop(\"Unnamed: 0\", axis=1, inplace=True)\n",
    "data.drop(['Unnamed: 0', 'ID', 'Source', 'TMC', 'Start_Time',\n",
    "       'End_Time', 'Start_Lat', 'Start_Lng', 'End_Lat', 'End_Lng',\n",
    "       'Distance(mi)', 'Description', 'Number', 'Street', 'Side', 'City',\n",
    "       'County', 'State', 'Zipcode', 'Country', 'Timezone', 'Airport_Code',\n",
    "       'Weather_Timestamp','Civil_Twilight', 'Nautical_Twilight', 'Astronomical_Twilight', 'Turning_Loop'], axis=1, inplace=True)\n",
    "\n",
    "data.columns"
   ]
  },
  {
   "cell_type": "code",
   "execution_count": 4,
   "metadata": {},
   "outputs": [
    {
     "name": "stdout",
     "output_type": "stream",
     "text": [
      "Dataset No. of Rows:  953630\n",
      "Dataset No. of Columns:  30\n",
      "\n",
      "Dataset first few rows:\n",
      " \n",
      "  Severity  Temperature(F)  Wind_Chill(F)  Humidity(%)  Pressure(in)  \\\n",
      "0      Low            36.0           36.0         59.0         30.20   \n",
      "1      Low            36.0           36.0         55.0         30.04   \n",
      "2      Low            31.0           31.0         72.0         30.16   \n",
      "3      Low            26.0           26.0         81.0         30.04   \n",
      "4     High            32.0           27.0        100.0         29.37   \n",
      "\n",
      "   Visibility(mi) Wind_Direction  Wind_Speed(mph)  Precipitation(in)  \\\n",
      "0           10.00            WNW              3.0                0.0   \n",
      "1           10.00           Calm              0.0                0.0   \n",
      "2           10.00           Calm              0.0                0.0   \n",
      "3           10.00           Calm              0.0                0.0   \n",
      "4            0.25          South              5.0                0.0   \n",
      "\n",
      "  Weather_Condition  ...  Traffic_Calming  Traffic_Signal  Sunrise_Sunset  \\\n",
      "0              Fair  ...            False           False             Day   \n",
      "1              Fair  ...            False           False             Day   \n",
      "2            Cloudy  ...            False           False           Night   \n",
      "3              Fair  ...            False           False           Night   \n",
      "4               Fog  ...            False           False           Night   \n",
      "\n",
      "   Year        Date  Month  Day  Hour  Weekday  Time_Duration(min)  \n",
      "0  2019  2019-12-25    Dec   25     9      Wed                74.0  \n",
      "1  2019  2019-12-25    Dec   25    12      Wed                44.0  \n",
      "2  2019  2019-12-25    Dec   25    20      Wed                75.0  \n",
      "3  2019  2019-12-25    Dec   25    20      Wed                70.0  \n",
      "4  2019  2019-12-25    Dec   25     7      Wed                91.0  \n",
      "\n",
      "[5 rows x 30 columns]\n"
     ]
    }
   ],
   "source": [
    "# printing the dataset rows and columns\n",
    "print(\"Dataset No. of Rows: \", data.shape[0])\n",
    "print(\"Dataset No. of Columns: \", data.shape[1])\n",
    "print(\"\")\n",
    "# printing the dataset obseravtions\n",
    "print(\"Dataset first few rows:\\n \")\n",
    "print(data.head(5))"
   ]
  },
  {
   "cell_type": "code",
   "execution_count": null,
   "metadata": {},
   "outputs": [],
   "source": [
    "# printing the struture of the dataset\n",
    "print(\"Dataset info:\\n \")\n",
    "print(data.info())"
   ]
  },
  {
   "cell_type": "code",
   "execution_count": null,
   "metadata": {},
   "outputs": [],
   "source": [
    "# printing the summary statistics of the dataset\n",
    "print(data.describe(include='all'))"
   ]
  },
  {
   "cell_type": "code",
   "execution_count": 5,
   "metadata": {},
   "outputs": [
    {
     "name": "stdout",
     "output_type": "stream",
     "text": [
      "Sum of NULL values in each column. \n",
      "Severity                0\n",
      "Temperature(F)          0\n",
      "Wind_Chill(F)           0\n",
      "Humidity(%)             0\n",
      "Pressure(in)            0\n",
      "Visibility(mi)          0\n",
      "Wind_Direction        293\n",
      "Wind_Speed(mph)         0\n",
      "Precipitation(in)       5\n",
      "Weather_Condition     352\n",
      "Amenity                 0\n",
      "Bump                    0\n",
      "Crossing                0\n",
      "Give_Way                0\n",
      "Junction                0\n",
      "No_Exit                 0\n",
      "Railway                 0\n",
      "Roundabout              0\n",
      "Station                 0\n",
      "Stop                    0\n",
      "Traffic_Calming         0\n",
      "Traffic_Signal          0\n",
      "Sunrise_Sunset         22\n",
      "Year                    0\n",
      "Date                    0\n",
      "Month                   0\n",
      "Day                     0\n",
      "Hour                    0\n",
      "Weekday                 0\n",
      "Time_Duration(min)      0\n",
      "dtype: int64\n"
     ]
    }
   ],
   "source": [
    "# Missing Values\n",
    "print(\"Sum of NULL values in each column. \")\n",
    "print(data.isnull().sum())"
   ]
  },
  {
   "cell_type": "code",
   "execution_count": 6,
   "metadata": {},
   "outputs": [
    {
     "data": {
      "text/plain": [
       "Index(['Severity', 'Temperature(F)', 'Wind_Chill(F)', 'Humidity(%)',\n",
       "       'Pressure(in)', 'Visibility(mi)', 'Wind_Speed(mph)',\n",
       "       'Precipitation(in)', 'Amenity', 'Bump', 'Crossing', 'Give_Way',\n",
       "       'Junction', 'No_Exit', 'Railway', 'Roundabout', 'Station', 'Stop',\n",
       "       'Traffic_Calming', 'Traffic_Signal', 'Sunrise_Sunset', 'Year', 'Date',\n",
       "       'Month', 'Day', 'Hour', 'Weekday', 'Time_Duration(min)'],\n",
       "      dtype='object')"
      ]
     },
     "execution_count": 6,
     "metadata": {},
     "output_type": "execute_result"
    }
   ],
   "source": [
    "# drop unnnecessary columns\n",
    "data.drop(['Wind_Direction', 'Weather_Condition'], axis=1, inplace=True)\n",
    "\n",
    "data.columns"
   ]
  },
  {
   "cell_type": "code",
   "execution_count": 7,
   "metadata": {},
   "outputs": [
    {
     "name": "stdout",
     "output_type": "stream",
     "text": [
      "Severity\n",
      "High    265855\n",
      "Low     687775\n",
      "Name: Severity, dtype: int64\n",
      "\n",
      "Amenity\n",
      "False    943263\n",
      "True      10367\n",
      "Name: Amenity, dtype: int64\n",
      "\n",
      "Bump\n",
      "False    953447\n",
      "True        183\n",
      "Name: Bump, dtype: int64\n",
      "\n",
      "Crossing\n",
      "False    887135\n",
      "True      66495\n",
      "Name: Crossing, dtype: int64\n",
      "\n",
      "Give_Way\n",
      "False    951103\n",
      "True       2527\n",
      "Name: Give_Way, dtype: int64\n",
      "\n",
      "Junction\n",
      "False    887095\n",
      "True      66535\n",
      "Name: Junction, dtype: int64\n",
      "\n",
      "No_Exit\n",
      "False    952510\n",
      "True       1120\n",
      "Name: No_Exit, dtype: int64\n",
      "\n",
      "Railway\n",
      "False    945326\n",
      "True       8304\n",
      "Name: Railway, dtype: int64\n",
      "\n",
      "Roundabout\n",
      "False    953577\n",
      "True         53\n",
      "Name: Roundabout, dtype: int64\n",
      "\n",
      "Station\n",
      "False    936929\n",
      "True      16701\n",
      "Name: Station, dtype: int64\n",
      "\n",
      "Stop\n",
      "False    939977\n",
      "True      13653\n",
      "Name: Stop, dtype: int64\n",
      "\n",
      "Traffic_Calming\n",
      "False    953250\n",
      "True        380\n",
      "Name: Traffic_Calming, dtype: int64\n",
      "\n",
      "Traffic_Signal\n",
      "False    800331\n",
      "True     153299\n",
      "Name: Traffic_Signal, dtype: int64\n",
      "\n",
      "Sunrise_Sunset\n",
      "Day      697016\n",
      "Night    256592\n",
      "Name: Sunrise_Sunset, dtype: int64\n",
      "\n"
     ]
    }
   ],
   "source": [
    "#data['Severity'] = data['Severity'].apply(lambda x:'0' if x<=2 else '1')\n",
    "severity_freq = data.groupby('Severity').Severity.count()\n",
    "print(severity_freq)\n",
    "print()\n",
    "\n",
    "for c in data.iloc[:, 8:21].columns:\n",
    "    freq = data.groupby(c)[c].count()\n",
    "    print(freq)\n",
    "    print()"
   ]
  },
  {
   "cell_type": "code",
   "execution_count": 8,
   "metadata": {},
   "outputs": [],
   "source": [
    "data = data.dropna()"
   ]
  },
  {
   "cell_type": "code",
   "execution_count": 12,
   "metadata": {},
   "outputs": [
    {
     "name": "stdout",
     "output_type": "stream",
     "text": [
      "  Severity  Temperature(F)  Wind_Chill(F)  Humidity(%)  Pressure(in)  \\\n",
      "0      Low            36.0           36.0         59.0         30.20   \n",
      "1      Low            36.0           36.0         55.0         30.04   \n",
      "2      Low            31.0           31.0         72.0         30.16   \n",
      "3      Low            26.0           26.0         81.0         30.04   \n",
      "4     High            32.0           27.0        100.0         29.37   \n",
      "\n",
      "   Visibility(mi)  Wind_Speed(mph)  Precipitation(in) Amenity Bump  ...  \\\n",
      "0           10.00              3.0                0.0       0    0  ...   \n",
      "1           10.00              0.0                0.0       0    0  ...   \n",
      "2           10.00              0.0                0.0       0    0  ...   \n",
      "3           10.00              0.0                0.0       0    0  ...   \n",
      "4            0.25              5.0                0.0       0    0  ...   \n",
      "\n",
      "  Traffic_Calming Traffic_Signal Sunrise_Sunset  Year        Date Month Day  \\\n",
      "0               0              0              1  2019  2019-12-25   Dec  25   \n",
      "1               0              0              1  2019  2019-12-25   Dec  25   \n",
      "2               0              0              0  2019  2019-12-25   Dec  25   \n",
      "3               0              0              0  2019  2019-12-25   Dec  25   \n",
      "4               0              0              0  2019  2019-12-25   Dec  25   \n",
      "\n",
      "  Hour Weekday Time_Duration(min)  \n",
      "0    9     Wed               74.0  \n",
      "1   12     Wed               44.0  \n",
      "2   20     Wed               75.0  \n",
      "3   20     Wed               70.0  \n",
      "4    7     Wed               91.0  \n",
      "\n",
      "[5 rows x 28 columns]\n"
     ]
    }
   ],
   "source": [
    "# Recode X variables\n",
    "data.iloc[:, 8:20] = data.iloc[:, 8:20].replace({True:\"1\", False:\"0\"})\n",
    "data['Sunrise_Sunset'] = data['Sunrise_Sunset'].replace({\"Day\":\"1\", \"Night\":\"0\"})\n",
    "print(data.head())"
   ]
  },
  {
   "cell_type": "code",
   "execution_count": 13,
   "metadata": {},
   "outputs": [],
   "source": [
    "\n",
    "Y = data.values[:, 0]\n",
    "X = data.values[:, 1:22]\n"
   ]
  },
  {
   "cell_type": "code",
   "execution_count": 14,
   "metadata": {},
   "outputs": [],
   "source": [
    "# split the dataset into train and test\n",
    "X_train, X_test, y_train, y_test = train_test_split(X, Y, test_size=0.3, random_state=100)"
   ]
  },
  {
   "cell_type": "code",
   "execution_count": 15,
   "metadata": {},
   "outputs": [
    {
     "data": {
      "text/plain": [
       "RandomForestClassifier(bootstrap=True, ccp_alpha=0.0, class_weight=None,\n",
       "                       criterion='gini', max_depth=None, max_features='auto',\n",
       "                       max_leaf_nodes=None, max_samples=None,\n",
       "                       min_impurity_decrease=0.0, min_impurity_split=None,\n",
       "                       min_samples_leaf=1, min_samples_split=2,\n",
       "                       min_weight_fraction_leaf=0.0, n_estimators=100,\n",
       "                       n_jobs=None, oob_score=False, random_state=None,\n",
       "                       verbose=0, warm_start=False)"
      ]
     },
     "execution_count": 15,
     "metadata": {},
     "output_type": "execute_result"
    }
   ],
   "source": [
    "# perform training with random forest with all columns\n",
    "# specify random forest classifier\n",
    "clf = RandomForestClassifier(n_estimators=100)\n",
    "\n",
    "# perform training\n",
    "clf.fit(X_train, y_train)"
   ]
  },
  {
   "cell_type": "code",
   "execution_count": 17,
   "metadata": {},
   "outputs": [
    {
     "data": {
      "image/png": "[encoded data removed]",
      "text/plain": [
       "<Figure size 1152x648 with 1 Axes>"
      ]
     },
     "metadata": {
      "needs_background": "light"
     },
     "output_type": "display_data"
    }
   ],
   "source": [
    "# plot feature importances\n",
    "# get feature importances\n",
    "importances = clf.feature_importances_\n",
    "\n",
    "# convert the importances into one-dimensional 1darray with corresponding df column names as axis labels\n",
    "f_importances = pd.Series(importances, data.iloc[:, 1:22].columns)\n",
    "\n",
    "# sort the array in descending order of the importances\n",
    "f_importances.sort_values(ascending=False, inplace=True)\n",
    "\n",
    "# make the bar Plot from f_importances\n",
    "f_importances.plot(x='Features', y='Importance', kind='bar', figsize=(16, 9), rot=90, fontsize=15)\n",
    "\n",
    "# show the plot\n",
    "plt.tight_layout()\n",
    "plt.show()"
   ]
  },
  {
   "cell_type": "code",
   "execution_count": 18,
   "metadata": {},
   "outputs": [],
   "source": [
    "# select features to perform training with random forest with k columns\n",
    "# select the training dataset on k-features\n",
    "newX_train = X_train[:, clf.feature_importances_.argsort()[::-1][:10]]\n",
    "\n",
    "# select the testing dataset on k-features\n",
    "newX_test = X_test[:, clf.feature_importances_.argsort()[::-1][:10]]"
   ]
  },
  {
   "cell_type": "code",
   "execution_count": 25,
   "metadata": {},
   "outputs": [
    {
     "data": {
      "text/plain": [
       "RandomForestClassifier(bootstrap=True, ccp_alpha=0.0, class_weight=None,\n",
       "                       criterion='gini', max_depth=None, max_features='auto',\n",
       "                       max_leaf_nodes=None, max_samples=None,\n",
       "                       min_impurity_decrease=0.0, min_impurity_split=None,\n",
       "                       min_samples_leaf=1, min_samples_split=2,\n",
       "                       min_weight_fraction_leaf=0.0, n_estimators=1000,\n",
       "                       n_jobs=None, oob_score=False, random_state=None,\n",
       "                       verbose=0, warm_start=False)"
      ]
     },
     "execution_count": 25,
     "metadata": {},
     "output_type": "execute_result"
    }
   ],
   "source": [
    "# perform training with random forest with k columns\n",
    "# specify random forest classifier\n",
    "# n_estimators=100: The number of trees in the forest.\n",
    "# bootstrap: boolean, optional (default=True)\n",
    "clf_k_features = RandomForestClassifier(n_estimators=1000)\n",
    "\n",
    "# train the model\n",
    "clf_k_features.fit(newX_train, y_train)"
   ]
  },
  {
   "cell_type": "code",
   "execution_count": 20,
   "metadata": {},
   "outputs": [],
   "source": [
    "# make predictions\n",
    "\n",
    "# predicton on test using all features\n",
    "y_pred = clf.predict(X_test)\n",
    "y_pred_score = clf.predict_proba(X_test)\n",
    "\n",
    "# prediction on test using k features\n",
    "y_pred_k_features = clf_k_features.predict(newX_test)\n",
    "y_pred_k_features_score = clf_k_features.predict_proba(newX_test)"
   ]
  },
  {
   "cell_type": "code",
   "execution_count": 21,
   "metadata": {},
   "outputs": [
    {
     "name": "stdout",
     "output_type": "stream",
     "text": [
      "\n",
      "\n",
      "Results Using All Features: \n",
      "\n",
      "Classification Report: \n",
      "              precision    recall  f1-score   support\n",
      "\n",
      "        High       0.50      0.32      0.39     80076\n",
      "         Low       0.77      0.88      0.82    206005\n",
      "\n",
      "    accuracy                           0.72    286081\n",
      "   macro avg       0.64      0.60      0.61    286081\n",
      "weighted avg       0.69      0.72      0.70    286081\n",
      "\n",
      "\n",
      "\n",
      "Accuracy :  72.17885843519842\n",
      "\n",
      "\n",
      "ROC_AUC :  70.1172986231028\n",
      "\n",
      "\n",
      "Results Using K features: \n",
      "\n",
      "Classification Report: \n",
      "              precision    recall  f1-score   support\n",
      "\n",
      "        High       0.50      0.33      0.40     80076\n",
      "         Low       0.77      0.88      0.82    206005\n",
      "\n",
      "    accuracy                           0.72    286081\n",
      "   macro avg       0.64      0.60      0.61    286081\n",
      "weighted avg       0.70      0.72      0.70    286081\n",
      "\n",
      "\n",
      "\n",
      "Accuracy :  72.17955753790011\n",
      "\n",
      "\n",
      "ROC_AUC :  69.79916388355602\n"
     ]
    }
   ],
   "source": [
    "# calculate metrics gini model\n",
    "\n",
    "print(\"\\n\")\n",
    "print(\"Results Using All Features: \\n\")\n",
    "\n",
    "print(\"Classification Report: \")\n",
    "print(classification_report(y_test,y_pred))\n",
    "print(\"\\n\")\n",
    "\n",
    "print(\"Accuracy : \", accuracy_score(y_test, y_pred) * 100)\n",
    "print(\"\\n\")\n",
    "\n",
    "print(\"ROC_AUC : \", roc_auc_score(y_test,y_pred_score[:,1]) * 100)\n",
    "\n",
    "# calculate metrics entropy model\n",
    "print(\"\\n\")\n",
    "print(\"Results Using K features: \\n\")\n",
    "print(\"Classification Report: \")\n",
    "print(classification_report(y_test,y_pred_k_features))\n",
    "print(\"\\n\")\n",
    "print(\"Accuracy : \", accuracy_score(y_test, y_pred_k_features) * 100)\n",
    "print(\"\\n\")\n",
    "print(\"ROC_AUC : \", roc_auc_score(y_test,y_pred_k_features_score[:,1]) * 100)"
   ]
  },
  {
   "cell_type": "code",
   "execution_count": 22,
   "metadata": {},
   "outputs": [
    {
     "data": {
      "image/png": "[encoded data removed]",
      "text/plain": [
       "<Figure size 360x360 with 1 Axes>"
      ]
     },
     "metadata": {
      "needs_background": "light"
     },
     "output_type": "display_data"
    }
   ],
   "source": [
    "# confusion matrix for gini model\n",
    "conf_matrix = confusion_matrix(y_test, y_pred)\n",
    "class_names = data['Severity'].unique()\n",
    "\n",
    "\n",
    "df_cm = pd.DataFrame(conf_matrix, index=class_names, columns=class_names )\n",
    "\n",
    "plt.figure(figsize=(5,5))\n",
    "\n",
    "hm = sns.heatmap(df_cm, cbar=False, annot=True, square=True, fmt='d', annot_kws={'size': 20}, yticklabels=df_cm.columns, xticklabels=df_cm.columns)\n",
    "\n",
    "hm.yaxis.set_ticklabels(hm.yaxis.get_ticklabels(), rotation=0, ha='right', fontsize=20)\n",
    "hm.xaxis.set_ticklabels(hm.xaxis.get_ticklabels(), rotation=0, ha='right', fontsize=20)\n",
    "plt.ylabel('True label',fontsize=20)\n",
    "plt.xlabel('Predicted label',fontsize=20)\n",
    "# Show heat map\n",
    "plt.tight_layout()"
   ]
  },
  {
   "cell_type": "code",
   "execution_count": 23,
   "metadata": {},
   "outputs": [
    {
     "data": {
      "image/png": "[encoded data removed]",
      "text/plain": [
       "<Figure size 360x360 with 1 Axes>"
      ]
     },
     "metadata": {
      "needs_background": "light"
     },
     "output_type": "display_data"
    }
   ],
   "source": [
    "# confusion matrix for entropy model\n",
    "\n",
    "conf_matrix = confusion_matrix(y_test, y_pred_k_features)\n",
    "class_names = data['Severity'].unique()\n",
    "\n",
    "\n",
    "df_cm = pd.DataFrame(conf_matrix, index=class_names, columns=class_names )\n",
    "\n",
    "plt.figure(figsize=(5,5))\n",
    "\n",
    "hm = sns.heatmap(df_cm, cbar=False, annot=True, square=True, fmt='d', annot_kws={'size': 20}, yticklabels=df_cm.columns, xticklabels=df_cm.columns)\n",
    "\n",
    "hm.yaxis.set_ticklabels(hm.yaxis.get_ticklabels(), rotation=0, ha='right', fontsize=20)\n",
    "hm.xaxis.set_ticklabels(hm.xaxis.get_ticklabels(), rotation=0, ha='right', fontsize=20)\n",
    "plt.ylabel('True label',fontsize=20)\n",
    "plt.xlabel('Predicted label',fontsize=20)\n",
    "# Show heat map\n",
    "plt.tight_layout()\n",
    "plt.show()"
   ]
  },
  {
   "cell_type": "code",
   "execution_count": 24,
   "metadata": {},
   "outputs": [],
   "source": [
    "data.to_csv('df_new.csv')"
   ]
  },
  {
   "cell_type": "code",
   "execution_count": null,
   "metadata": {},
   "outputs": [],
   "source": []
  }
 ],
 "metadata": {
  "anaconda-cloud": {},
  "kernelspec": {
   "display_name": "Python 3",
   "language": "python",
   "name": "python3"
  },
  "language_info": {
   "codemirror_mode": {
    "name": "ipython",
    "version": 3
   },
   "file_extension": ".py",
   "mimetype": "text/x-python",
   "name": "python",
   "nbconvert_exporter": "python",
   "pygments_lexer": "ipython3",
   "version": "3.7.6"
  }
 },
 "nbformat": 4,
 "nbformat_minor": 1
}
