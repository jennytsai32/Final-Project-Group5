{
 "cells": [
  {
   "cell_type": "code",
   "execution_count": 1,
   "metadata": {},
   "outputs": [],
   "source": [
    "# Importing the required packages\n",
    "import numpy as np\n",
    "import pandas as pd\n",
    "from sklearn.preprocessing import LabelEncoder\n",
    "from sklearn.metrics import confusion_matrix\n",
    "from sklearn.model_selection import train_test_split\n",
    "from sklearn.linear_model import LogisticRegression\n",
    "from sklearn.metrics import accuracy_score\n",
    "from sklearn.metrics import classification_report\n",
    "from sklearn.metrics import roc_auc_score\n",
    "import seaborn as sns\n",
    "import matplotlib.pyplot as plt\n",
    "import warnings\n",
    "warnings.filterwarnings(\"ignore\")"
   ]
  },
  {
   "cell_type": "code",
   "execution_count": 2,
   "metadata": {},
   "outputs": [
    {
     "name": "stdout",
     "output_type": "stream",
     "text": [
      "Dataset No. of Rows:  953603\n",
      "Dataset No. of Columns:  29\n",
      "Dataset first few rows:\n",
      " \n",
      "   Unnamed: 0 Severity  Temperature(F)  Wind_Chill(F)  Humidity(%)  \\\n",
      "0           0      Low            36.0           36.0         59.0   \n",
      "1           1      Low            36.0           36.0         55.0   \n",
      "2           2      Low            31.0           31.0         72.0   \n",
      "\n",
      "   Pressure(in)  Visibility(mi)  Wind_Speed(mph)  Precipitation(in)  Amenity  \\\n",
      "0         30.20            10.0              3.0                0.0        0   \n",
      "1         30.04            10.0              0.0                0.0        0   \n",
      "2         30.16            10.0              0.0                0.0        0   \n",
      "\n",
      "   ...  Traffic_Calming  Traffic_Signal  Sunrise_Sunset  Year        Date  \\\n",
      "0  ...                0               0               1  2019  2019-12-25   \n",
      "1  ...                0               0               1  2019  2019-12-25   \n",
      "2  ...                0               0               0  2019  2019-12-25   \n",
      "\n",
      "   Month  Day  Hour  Weekday  Time_Duration(min)  \n",
      "0    Dec   25     9      Wed                74.0  \n",
      "1    Dec   25    12      Wed                44.0  \n",
      "2    Dec   25    20      Wed                75.0  \n",
      "\n",
      "[3 rows x 29 columns]\n"
     ]
    }
   ],
   "source": [
    "#importing Dataset\n",
    "\n",
    "# read data as panda dataframe\n",
    "data = pd.read_csv(\"df_new.csv\")\n",
    "\n",
    "# printing the dataset shape\n",
    "print(\"Dataset No. of Rows: \", data.shape[0])\n",
    "print(\"Dataset No. of Columns: \", data.shape[1])\n",
    "\n",
    "# printing the dataset observations\n",
    "print(\"Dataset first few rows:\\n \")\n",
    "print(data.head(3))"
   ]
  },
  {
   "cell_type": "code",
   "execution_count": 3,
   "metadata": {},
   "outputs": [
    {
     "name": "stdout",
     "output_type": "stream",
     "text": [
      "Index(['Severity', 'Temperature(F)', 'Wind_Chill(F)', 'Humidity(%)',\n",
      "       'Pressure(in)', 'Visibility(mi)', 'Wind_Speed(mph)',\n",
      "       'Precipitation(in)', 'Amenity', 'Bump', 'Crossing', 'Give_Way',\n",
      "       'Junction', 'No_Exit', 'Railway', 'Roundabout', 'Station', 'Stop',\n",
      "       'Traffic_Calming', 'Traffic_Signal', 'Sunrise_Sunset', 'Year', 'Date',\n",
      "       'Month', 'Day', 'Hour', 'Weekday', 'Time_Duration(min)'],\n",
      "      dtype='object')\n"
     ]
    }
   ],
   "source": [
    "data.drop('Unnamed: 0', axis=1, inplace=True)\n",
    "print(data.columns)"
   ]
  },
  {
   "cell_type": "code",
   "execution_count": 4,
   "metadata": {},
   "outputs": [],
   "source": [
    "# split the dataset\n",
    "# separate the target variable\n",
    "X = data.values[:, 1:21]\n",
    "Y = data.values[:,0]"
   ]
  },
  {
   "cell_type": "code",
   "execution_count": 5,
   "metadata": {},
   "outputs": [],
   "source": [
    "class_le = LabelEncoder()\n",
    "\n",
    "y = class_le.fit_transform(Y)"
   ]
  },
  {
   "cell_type": "code",
   "execution_count": 6,
   "metadata": {},
   "outputs": [],
   "source": [
    "# split the dataset into train and test\n",
    "X_train, X_test, y_train, y_test = train_test_split(X, Y, test_size=0.3, random_state=100)"
   ]
  },
  {
   "cell_type": "code",
   "execution_count": 7,
   "metadata": {},
   "outputs": [
    {
     "data": {
      "text/plain": [
       "LogisticRegression(C=1.0, class_weight=None, dual=False, fit_intercept=True,\n",
       "                   intercept_scaling=1, l1_ratio=None, max_iter=100,\n",
       "                   multi_class='auto', n_jobs=None, penalty='l2',\n",
       "                   random_state=None, solver='lbfgs', tol=0.0001, verbose=0,\n",
       "                   warm_start=False)"
      ]
     },
     "execution_count": 7,
     "metadata": {},
     "output_type": "execute_result"
    }
   ],
   "source": [
    "# perform training\n",
    "# creating the classifier object\n",
    "clf = LogisticRegression()\n",
    "\n",
    "# performing training\n",
    "clf.fit(X_train, y_train)"
   ]
  },
  {
   "cell_type": "code",
   "execution_count": 8,
   "metadata": {},
   "outputs": [],
   "source": [
    "# make predictions\n",
    "# predicton on test\n",
    "y_pred = clf.predict(X_test)\n",
    "\n",
    "y_pred_score = clf.predict_proba(X_test)"
   ]
  },
  {
   "cell_type": "code",
   "execution_count": 9,
   "metadata": {},
   "outputs": [
    {
     "name": "stdout",
     "output_type": "stream",
     "text": [
      "\n",
      "\n",
      "Classification Report: \n",
      "              precision    recall  f1-score   support\n",
      "\n",
      "        High       0.45      0.01      0.02     80076\n",
      "         Low       0.72      1.00      0.84    206005\n",
      "\n",
      "    accuracy                           0.72    286081\n",
      "   macro avg       0.58      0.50      0.43    286081\n",
      "weighted avg       0.64      0.72      0.61    286081\n",
      "\n",
      "\n",
      "\n",
      "Accuracy :  71.95829153281763\n",
      "\n",
      "\n",
      "ROC_AUC :  63.74530890758269\n",
      "\n",
      "\n"
     ]
    }
   ],
   "source": [
    "# calculate metrics\n",
    "print(\"\\n\")\n",
    "\n",
    "print(\"Classification Report: \")\n",
    "print(classification_report(y_test,y_pred))\n",
    "print(\"\\n\")\n",
    "\n",
    "\n",
    "print(\"Accuracy : \", accuracy_score(y_test, y_pred) * 100)\n",
    "print(\"\\n\")\n",
    "\n",
    "print(\"ROC_AUC : \", roc_auc_score(y_test,y_pred_score[:,1]) * 100)\n",
    "print(\"\\n\")"
   ]
  },
  {
   "cell_type": "code",
   "execution_count": 10,
   "metadata": {},
   "outputs": [
    {
     "data": {
      "image/png": "[encoded data removed]",
      "text/plain": [
       "<Figure size 360x360 with 1 Axes>"
      ]
     },
     "metadata": {
      "needs_background": "light"
     },
     "output_type": "display_data"
    }
   ],
   "source": [
    "# confusion matrix\n",
    "\n",
    "conf_matrix = confusion_matrix(y_test, y_pred)\n",
    "class_names = data['Severity'].unique()\n",
    "\n",
    "df_cm = pd.DataFrame(conf_matrix, index=class_names, columns=class_names )\n",
    "\n",
    "plt.figure(figsize=(5,5))\n",
    "hm = sns.heatmap(df_cm, cbar=False, annot=True, square=True, fmt='d', annot_kws={'size': 20}, yticklabels=df_cm.columns, xticklabels=df_cm.columns)\n",
    "hm.yaxis.set_ticklabels(hm.yaxis.get_ticklabels(), rotation=0, ha='right', fontsize=20)\n",
    "hm.xaxis.set_ticklabels(hm.xaxis.get_ticklabels(), rotation=0, ha='right', fontsize=20)\n",
    "plt.ylabel('True label',fontsize=20)\n",
    "plt.xlabel('Predicted label',fontsize=20)\n",
    "plt.tight_layout()\n",
    "plt.show()"
   ]
  },
  {
   "cell_type": "code",
   "execution_count": null,
   "metadata": {},
   "outputs": [],
   "source": []
  }
 ],
 "metadata": {
  "anaconda-cloud": {},
  "kernelspec": {
   "display_name": "Python 3",
   "language": "python",
   "name": "python3"
  },
  "language_info": {
   "codemirror_mode": {
    "name": "ipython",
    "version": 3
   },
   "file_extension": ".py",
   "mimetype": "text/x-python",
   "name": "python",
   "nbconvert_exporter": "python",
   "pygments_lexer": "ipython3",
   "version": "3.7.6"
  }
 },
 "nbformat": 4,
 "nbformat_minor": 1
}
